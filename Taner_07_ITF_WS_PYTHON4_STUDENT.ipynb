{
  "cells": [
    {
      "cell_type": "markdown",
      "metadata": {
        "id": "view-in-github",
        "colab_type": "text"
      },
      "source": [
        "<a href=\"https://colab.research.google.com/github/tnrcelik/python_work/blob/main/Taner_07_ITF_WS_PYTHON4_STUDENT.ipynb\" target=\"_parent\"><img src=\"https://colab.research.google.com/assets/colab-badge.svg\" alt=\"Open In Colab\"/></a>"
      ]
    },
    {
      "cell_type": "markdown",
      "metadata": {
        "id": "3Wu6uYo_y-WR"
      },
      "source": [
        "<center><img src=\"https://github.com/aaron-clarusway/fullstack/blob/master/itf-logo.png?raw=true\"  alt=\"alt text\" width=\"200\"/></center>\n",
        "<br>\n",
        "<h1><p style=\"text-align: center; color:darkblue\">Python Basic & Plus</p><h1>\n",
        "<center><h1>Workshop - 4</h1></center>\n",
        "<p><img align=\"right\"\n",
        "  src=\"https://secure.meetupstatic.com/photos/event/3/1/b/9/600_488352729.jpeg\"  width=\"15px\"></p>\n",
        "<br>\n",
        "\n",
        "\n",
        "# Subject: Collections - Control Flow Statements - Functions"
      ]
    },
    {
      "cell_type": "markdown",
      "metadata": {
        "id": "riJzI4e5y-WY"
      },
      "source": [
        "## Coding Challenge -1 : Palindrome\n",
        "\n",
        "Purpose of the this coding challenge is to solve a control flow statements issue.\n",
        "\n",
        "### Learning Outcomes\n",
        "\n",
        "At the end of the this coding challenge, students will be able to;\n",
        "\n",
        "- understand the use of loops.\n",
        "- understand the importance of alphanumeric string methods.\n",
        "- get a better understanding in manipulating strings.\n",
        "\n",
        "### Problem Statement\n",
        "  \n",
        "- Write a function/functions that checks whether the sentence you get from the user is a **palindrome**. (Do not consider punctuation and special characters. Only consider \"***alphanumeric***\" characters.)\n",
        "\n",
        "\n",
        "```bash\n",
        "input : \"ey edip adana'da, pide ye!\"\n",
        "\n",
        "output : \"ey edip adana'da, pide ye!\" is a palindrome\n",
        "\n",
        "input : \"Was it a car or a cat I saw?\"\n",
        "\n",
        "output : \"Was it a car or a cat I saw?\" is a palindrome\n",
        "```"
      ]
    },
    {
      "cell_type": "markdown",
      "metadata": {
        "id": "9AnfVqFWy-WZ"
      },
      "source": [
        "### Solution :"
      ]
    },
    {
      "cell_type": "code",
      "source": [
        "word = [\"ey edip adana'da, pide ye!\", \"Was it a car or a cat I saw?\"]\n",
        "def palindrome(value):\n",
        "    min = 0\n",
        "    max = len(value) - 1\n",
        "\n",
        "    while True:\n",
        "        if min > max:\n",
        "            return True;\n",
        "\n",
        "        a = value[min]\n",
        "        b = value[max]\n",
        "\n",
        "        if a != b:\n",
        "            return False;\n",
        "\n",
        "        min += 1\n",
        "        max -= 1\n",
        "\n",
        "dict = str.maketrans(\",:.'!?ABCDEFGHIJKLMNOPQRSTUVWXYZ\",\n",
        "    \"      abcdefghijklmnopqrstuvwxyz\")\n",
        "\n",
        "for line in word:\n",
        "\n",
        "    line = line.translate(dict)\n",
        "\n",
        "    line = line.replace(\" \", \"\")\n",
        "\n",
        "    if palindrome(line):\n",
        "        print(\"Palindrome:    \", line)\n",
        "    else:\n",
        "        print(\"Not palindrome:\", line)"
      ],
      "metadata": {
        "id": "Q9DzKmXU5kec",
        "colab": {
          "base_uri": "https://localhost:8080/"
        },
        "outputId": "587505b9-817f-4b9a-8368-ba7e114b7c68"
      },
      "execution_count": null,
      "outputs": [
        {
          "output_type": "stream",
          "name": "stdout",
          "text": [
            "Palindrome:     eyedipadanadapideye\n",
            "Palindrome:     wasitacaroracatisaw\n"
          ]
        }
      ]
    },
    {
      "cell_type": "markdown",
      "metadata": {
        "id": "RPiQLjsXy-Wa"
      },
      "source": [
        "## Coding Challenge - 2: Sudoku Format Converter&Printer\n",
        "\n",
        "The purpose of this coding challenge is to write a program that prints the given lists as sudoku looking format.\n",
        "\n",
        "### Learning Outcomes\n",
        "\n",
        "At the end of this coding challenge, students will be able to;\n",
        "\n",
        "- analyze a problem, identify, and apply programming knowledge for appropriate solution.\n",
        "\n",
        "- design, implement `arithmetic operators` and nested loops effectively in Python to solve the given problem.\n",
        "\n",
        "- demonstrate their knowledge of algorithmic design principles by solving the problem effectively.\n",
        "\n",
        "### Problem Statement\n",
        "\n",
        "<div class=\"alert alert-block alert-info\">\n",
        "    <b>💡Objective:</b>\n",
        "    <ul>\n",
        "        <li>To improve your <b>control flow statement</b> skills.</li>\n",
        "    </ul>\n",
        "</div>\n",
        "\n",
        "<hr>\n",
        "<p><b>Task:</b> The department you work for has received a project that displays the solved sudoku puzzles in a digital environment.&nbsp;</p>\n",
        "<p></p>\n",
        "<p></p>\n",
        "<ul>\n",
        "    <li>Write a Python code to print out the given <code>sudoku</code> puzzle matrix in the following format.</li>\n",
        "</ul>\n",
        "<b>Given format :</b><br>\n",
        "<ol>\n",
        "</ol>\n",
        "<p>\n",
        "</p>\n",
        "<div>\n",
        "    <pre>sudoku&nbsp;=&nbsp;[<br>&nbsp;&nbsp;&nbsp;&nbsp;[0,&nbsp;0,&nbsp;0,&nbsp;0,&nbsp;6,&nbsp;4,&nbsp;0,&nbsp;0,&nbsp;0],<br>&nbsp;&nbsp;&nbsp;&nbsp;[7,&nbsp;0,&nbsp;0,&nbsp;0,&nbsp;0,&nbsp;0,&nbsp;3,&nbsp;9,&nbsp;0],<br>&nbsp;&nbsp;&nbsp;&nbsp;[8,&nbsp;0,&nbsp;0,&nbsp;0,&nbsp;0,&nbsp;0,&nbsp;0,&nbsp;0,&nbsp;0],<br>&nbsp;&nbsp;&nbsp;&nbsp;[0,&nbsp;0,&nbsp;0,&nbsp;5,&nbsp;0,&nbsp;2,&nbsp;0,&nbsp;6,&nbsp;0],<br>&nbsp;&nbsp;&nbsp;&nbsp;[0,&nbsp;8,&nbsp;0,&nbsp;4,&nbsp;0,&nbsp;0,&nbsp;0,&nbsp;0,&nbsp;0],<br>&nbsp;&nbsp;&nbsp;&nbsp;[3,&nbsp;5,&nbsp;0,&nbsp;6,&nbsp;0,&nbsp;0,&nbsp;0,&nbsp;7,&nbsp;0],<br>&nbsp;&nbsp;&nbsp;&nbsp;[0,&nbsp;0,&nbsp;2,&nbsp;0,&nbsp;0,&nbsp;0,&nbsp;1,&nbsp;0,&nbsp;3],<br>&nbsp;&nbsp;&nbsp;&nbsp;[0,&nbsp;0,&nbsp;1,&nbsp;0,&nbsp;5,&nbsp;9,&nbsp;0,&nbsp;0,&nbsp;0],<br>&nbsp;&nbsp;&nbsp;&nbsp;[0,&nbsp;0,&nbsp;0,&nbsp;0,&nbsp;0,&nbsp;0,&nbsp;7,&nbsp;0,&nbsp;0]<br>]</pre>\n",
        "    <div>\n",
        "        <b>Desired output format :</b><br>\n",
        "        <ol>\n",
        "        </ol>\n",
        "    </div>\n",
        "    <pre>- - - - - - - - - - - - - - - \n",
        "0  0  0  | 0  6  4  | 0  0  0  \n",
        "7  0  0  | 0  0  0  | 3  9  0  \n",
        "8  0  0  | 0  0  0  | 0  0  0  \n",
        "- - - - - - - - - - - - - - - \n",
        "0  0  0  | 5  0  2  | 0  6  0  \n",
        "0  8  0  | 4  0  0  | 0  0  0  \n",
        "3  5  0  | 6  0  0  | 0  7  0  \n",
        "- - - - - - - - - - - - - - - \n",
        "0  0  2  | 0  0  0  | 1  0  3  \n",
        "0  0  1  | 0  5  9  | 0  0  0  \n",
        "0  0  0  | 0  0  0  | 7  0  0  \n",
        "- - - - - - - - - - - - - - -</pre>\n",
        "</div><br>\n",
        "<p></p>\n",
        "<p></p>\n",
        "<hr>\n",
        "<p><i><b>Note that</b>; <br></i></p>\n",
        "<ul>\n",
        "    <li><i><i>Use not more than \"<b>control flow statement and boolean logic operators</b>\" in solving this code problem. </i></i>\n",
        "    </li>\n",
        "    <li><i><i>The output which we expect from you is only a new output format above. </i></i>\n",
        "    </li>\n",
        "    <li><i><i>We don't expect a sudoku puzzle solver from you.</i></i>\n",
        "    </li>\n",
        "</ul>\n",
        "<p></p>"
      ]
    },
    {
      "cell_type": "markdown",
      "metadata": {
        "id": "gQWIbbVxy-Wd"
      },
      "source": [
        "### Solution :"
      ]
    },
    {
      "cell_type": "code",
      "source": [],
      "metadata": {
        "id": "ESaK3dFgoQ3E"
      },
      "execution_count": null,
      "outputs": []
    }
  ],
  "metadata": {
    "kernelspec": {
      "display_name": "Python 3",
      "language": "python",
      "name": "python3"
    },
    "language_info": {
      "codemirror_mode": {
        "name": "ipython",
        "version": 3
      },
      "file_extension": ".py",
      "mimetype": "text/x-python",
      "name": "python",
      "nbconvert_exporter": "python",
      "pygments_lexer": "ipython3",
      "version": "3.7.3"
    },
    "colab": {
      "provenance": [],
      "collapsed_sections": [],
      "include_colab_link": true
    }
  },
  "nbformat": 4,
  "nbformat_minor": 0
}