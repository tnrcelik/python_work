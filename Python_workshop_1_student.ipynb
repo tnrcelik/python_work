{
  "cells": [
    {
      "cell_type": "markdown",
      "metadata": {
        "id": "view-in-github",
        "colab_type": "text"
      },
      "source": [
        "<a href=\"https://colab.research.google.com/github/tnrcelik/python_work/blob/main/Python_workshop_1_student.ipynb\" target=\"_parent\"><img src=\"https://colab.research.google.com/assets/colab-badge.svg\" alt=\"Open In Colab\"/></a>"
      ]
    },
    {
      "cell_type": "markdown",
      "metadata": {
        "id": "c5cWd5gGGt52"
      },
      "source": [
        "<center><img src=\"https://github.com/aaron-clarusway/fullstack/blob/master/itf-logo.png?raw=true\"  alt=\"alt text\" width=\"200\"/></center>\n",
        "<br>\n",
        "<h1><p style=\"text-align: center; color:darkblue\">Python Basic</p><h1>\n",
        "<center><h1>Workshop - 1</h1></center>\n",
        "<p><img align=\"right\"\n",
        "  src=\"https://secure.meetupstatic.com/photos/event/3/1/b/9/600_488352729.jpeg\"  width=\"15px\"></p>\n",
        "<br>\n",
        "\n",
        "\n",
        "# Subject: Basic Data Types and Useful Operations\n",
        "\n",
        "## Learning Goals\n",
        "\n",
        "* to work with quotes in strings,\n",
        "* to practice basic data types,\n",
        "* to consolidate basic boolean operations."
      ]
    },
    {
      "cell_type": "markdown",
      "metadata": {
        "id": "hYWSgu8QGt57"
      },
      "source": [
        "### Problem 1\n",
        "\n",
        "Write a program that multiplies three numbers entered by the user. Print the output with the format method."
      ]
    },
    {
      "cell_type": "code",
      "execution_count": null,
      "metadata": {
        "colab": {
          "base_uri": "https://localhost:8080/"
        },
        "id": "4Rk2MO10Gt58",
        "outputId": "9cb30b60-721c-480c-9484-0145e4718ddd"
      },
      "outputs": [
        {
          "output_type": "stream",
          "name": "stdout",
          "text": [
            "Enter First Number:1\n",
            "Enter Second Number: 2\n",
            "Enter Third Number: 3\n",
            "The Product is:  6\n"
          ]
        }
      ],
      "source": [
        "a = int(input(\"Enter First Number:\")) \n",
        "b = int(input(\"Enter Second Number: \")) \n",
        "c = int(input(\"Enter Third Number: \")) \n",
        "product = a*b*c \n",
        "print (\"The Product is: \",product) "
      ]
    },
    {
      "cell_type": "markdown",
      "metadata": {
        "id": "B9vtcj9-Gt59"
      },
      "source": [
        "### Problem 2\n",
        "\n",
        "Write a program that calculates body mass index from **height** and **weight** entered by the user. \n",
        "\n",
        "Body mass index :  Weight / Height(m) * Height(m)"
      ]
    },
    {
      "cell_type": "code",
      "execution_count": null,
      "metadata": {
        "id": "xqArmyQAGt59",
        "colab": {
          "base_uri": "https://localhost:8080/"
        },
        "outputId": "ba2b8065-6bac-41c8-e498-3d5a008e8df2"
      },
      "outputs": [
        {
          "output_type": "stream",
          "name": "stdout",
          "text": [
            "Input your height in Feet: 1.74\n",
            "Input your weight in Kilogram: 80\n",
            "Your body mass index is:  26.42\n"
          ]
        }
      ],
      "source": [
        "height = float(input(\"Input your height in Feet: \"))\n",
        "weight = float(input(\"Input your weight in Kilogram: \"))\n",
        "print(\"Your body mass index is: \", round(weight / (height * height), 2))\n"
      ]
    },
    {
      "cell_type": "markdown",
      "metadata": {
        "id": "jwm9E_P7Gt59"
      },
      "source": [
        "### Problem 3\n",
        "\n",
        "\n",
        "#### With your $200, how many  pieces of material can you get for $11 each? How much money do you have left after buying?"
      ]
    },
    {
      "cell_type": "code",
      "execution_count": null,
      "metadata": {
        "id": "Bn6P9s1VGt5-",
        "colab": {
          "base_uri": "https://localhost:8080/"
        },
        "outputId": "84120d72-9c3d-4217-c9b6-379e61dfb6a1"
      },
      "outputs": [
        {
          "output_type": "stream",
          "name": "stdout",
          "text": [
            "11\n",
            "2\n"
          ]
        }
      ],
      "source": [
        "money = 200\n",
        "price = 18\n",
        "howmuch_piece = money // price\n",
        "left = money- (price*howmuch_piece)\n",
        "\n",
        "print(howmuch_piece)\n",
        "print(left)\n",
        "\n"
      ]
    },
    {
      "cell_type": "code",
      "source": [],
      "metadata": {
        "id": "-KnMTqiR-Yur"
      },
      "execution_count": null,
      "outputs": []
    },
    {
      "cell_type": "code",
      "source": [],
      "metadata": {
        "id": "YSB5dDuB-Xls"
      },
      "execution_count": null,
      "outputs": []
    },
    {
      "cell_type": "markdown",
      "metadata": {
        "id": "WpMogAC2Gt5-"
      },
      "source": [
        "### Problem 4\n",
        "\n",
        "Get **word**, **seperator** and **repetition** values from the user and print the word on the screen according to the given values. \n",
        "\n",
        "Ex: ``word = ali, sep = /, repetition = 3`` ----> ``ali/ali/ali``"
      ]
    },
    {
      "cell_type": "code",
      "execution_count": null,
      "metadata": {
        "id": "tDi7p6GnGt5-",
        "colab": {
          "base_uri": "https://localhost:8080/"
        },
        "outputId": "2b542193-4b6c-4e48-8827-6198205c71fb"
      },
      "outputs": [
        {
          "name": "stdout",
          "output_type": "stream",
          "text": [
            "Please input a single word: ali\n"
          ]
        }
      ],
      "source": [
        "word = input(\"Please input a single word: \")\n",
        "sep = input(\"Please identify a seperator: \")\n",
        "repetition = int(input(\"Please input a repetition: \"))\n",
        "result = (word+sep)*repetition + word\n",
        "print(result)\n"
      ]
    },
    {
      "cell_type": "markdown",
      "metadata": {
        "id": "oZUM-RJjGt5-"
      },
      "source": [
        "### Problem 5\n",
        "\n",
        ">Do not run the code, try to figure out in your mind.\n",
        "\n",
        "What will be the output of the following syntax :\n",
        "\n",
        "```python\n",
        "print(True and False and (not True and False) and not (True or False))\n",
        "```"
      ]
    },
    {
      "cell_type": "code",
      "execution_count": null,
      "metadata": {
        "id": "fbCopq1TGt5_",
        "colab": {
          "base_uri": "https://localhost:8080/"
        },
        "outputId": "f3ba1c31-a1db-496e-9db2-324ba74b1b40"
      },
      "outputs": [
        {
          "output_type": "stream",
          "name": "stdout",
          "text": [
            "False\n"
          ]
        }
      ],
      "source": [
        "print(True and False and (not True and False) and not (True or False))"
      ]
    },
    {
      "cell_type": "markdown",
      "metadata": {
        "id": "6Gume8YwGt5_"
      },
      "source": [
        "### Problem 6\n",
        "\n",
        ">Do not run the code, try to figure out in your mind.\n",
        "\n",
        "What will be the output of the following syntax :\n",
        "\n",
        "```python\n",
        "print(True and False and not \"False\" and None and (\"None\" or None))\n",
        "```"
      ]
    },
    {
      "cell_type": "code",
      "execution_count": null,
      "metadata": {
        "id": "hREEV8KSGt5_",
        "colab": {
          "base_uri": "https://localhost:8080/"
        },
        "outputId": "2ecabdcf-21fd-469f-fd60-894340a8465d"
      },
      "outputs": [
        {
          "output_type": "stream",
          "name": "stdout",
          "text": [
            "False\n"
          ]
        }
      ],
      "source": [
        "print(True and False and not \"False\" and None and (\"None\" or None))"
      ]
    },
    {
      "cell_type": "markdown",
      "metadata": {
        "id": "7UufOFU1Gt6A"
      },
      "source": [
        "### Problem 7\n",
        "\n",
        ">Do not run the code, try to figure out in your mind.\n",
        "\n",
        "What will be the output of the following syntax :\n",
        "\n",
        "```python\n",
        "print(\"clarusway\" and 0 and not \"\" and False and (\" \" or None))\n",
        "```"
      ]
    },
    {
      "cell_type": "code",
      "execution_count": null,
      "metadata": {
        "id": "iatFaboDGt6A",
        "colab": {
          "base_uri": "https://localhost:8080/"
        },
        "outputId": "aa704a34-5561-483d-b016-83c53d3ee27f"
      },
      "outputs": [
        {
          "output_type": "stream",
          "name": "stdout",
          "text": [
            "0\n"
          ]
        }
      ],
      "source": [
        "print(\"clarusway\" and 0 and not \"\" and False and (\" \" or None))"
      ]
    }
  ],
  "metadata": {
    "kernelspec": {
      "display_name": "Python 3",
      "language": "python",
      "name": "python3"
    },
    "language_info": {
      "codemirror_mode": {
        "name": "ipython",
        "version": 3
      },
      "file_extension": ".py",
      "mimetype": "text/x-python",
      "name": "python",
      "nbconvert_exporter": "python",
      "pygments_lexer": "ipython3",
      "version": "3.9.6"
    },
    "colab": {
      "provenance": [],
      "include_colab_link": true
    }
  },
  "nbformat": 4,
  "nbformat_minor": 0
}