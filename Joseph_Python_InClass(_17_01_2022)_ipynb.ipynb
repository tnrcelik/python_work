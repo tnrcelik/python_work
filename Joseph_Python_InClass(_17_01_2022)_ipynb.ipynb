{
  "cells": [
    {
      "cell_type": "markdown",
      "metadata": {
        "id": "view-in-github",
        "colab_type": "text"
      },
      "source": [
        "<a href=\"https://colab.research.google.com/github/tnrcelik/python_work/blob/main/Joseph_Python_InClass(_17_01_2022)_ipynb.ipynb\" target=\"_parent\"><img src=\"https://colab.research.google.com/assets/colab-badge.svg\" alt=\"Open In Colab\"/></a>"
      ]
    },
    {
      "cell_type": "code",
      "execution_count": null,
      "id": "6150e81a",
      "metadata": {
        "id": "6150e81a",
        "outputId": "a57e3633-6bc1-4b85-b77f-2d1614369d63"
      },
      "outputs": [
        {
          "name": "stdout",
          "output_type": "stream",
          "text": [
            "30\n"
          ]
        }
      ],
      "source": [
        "my_age = 33\n",
        "your_age = 30\n",
        "my_age = your_age\n",
        "print(my_age)\n",
        "# my_age değişkeni your_age değişkenine atanmıştır."
      ]
    },
    {
      "cell_type": "code",
      "execution_count": null,
      "id": "949823b5",
      "metadata": {
        "id": "949823b5"
      },
      "outputs": [],
      "source": [
        "variable = 3.14\n",
        "VAR_ONE = 'something'# Büyük harf tavsiye edilmez."
      ]
    },
    {
      "cell_type": "code",
      "execution_count": null,
      "id": "6fc74204",
      "metadata": {
        "colab": {
          "base_uri": "https://localhost:8080/",
          "height": 131
        },
        "id": "6fc74204",
        "outputId": "843a0069-952b-4caf-9739-e23a98f2b65d"
      },
      "outputs": [
        {
          "output_type": "error",
          "ename": "SyntaxError",
          "evalue": "ignored",
          "traceback": [
            "\u001b[0;36m  File \u001b[0;32m\"<ipython-input-1-e6f7c759252b>\"\u001b[0;36m, line \u001b[0;32m1\u001b[0m\n\u001b[0;31m    if\u001b[0m\n\u001b[0m      ^\u001b[0m\n\u001b[0;31mSyntaxError\u001b[0m\u001b[0;31m:\u001b[0m invalid syntax\n"
          ]
        }
      ],
      "source": [
        "if\n",
        "or\n",
        "and\n",
        "True\n",
        "False\n",
        "in\n",
        "while\n",
        "for\n",
        "else\n",
        "pass\n",
        "break\n",
        "yield\n",
        "# Değişkenlere pythonun sıkça kullandığı\n",
        "# kelimelerle isim vermemeye çalışmalıyız."
      ]
    },
    {
      "cell_type": "code",
      "execution_count": null,
      "id": "07f5db16",
      "metadata": {
        "id": "07f5db16",
        "outputId": "91c70233-e535-4c66-e1f4-f28325d70037"
      },
      "outputs": [
        {
          "name": "stdout",
          "output_type": "stream",
          "text": [
            "same\n",
            "same\n",
            "same\n"
          ]
        }
      ],
      "source": [
        "x = y = z = \"same\"\n",
        "print(x)\n",
        "print(y)\n",
        "print(z)\n",
        "# değer atamalarında sağdan sola atama yapmalı , bu mantıkla düşünmeliyiz. "
      ]
    },
    {
      "cell_type": "code",
      "execution_count": null,
      "id": "c35516a7",
      "metadata": {
        "id": "c35516a7",
        "outputId": "9ca1efeb-62c9-41c4-f40d-732eddb91ab0"
      },
      "outputs": [
        {
          "name": "stdout",
          "output_type": "stream",
          "text": [
            "31 28 31 30 31 30 31 31 30 31 30 30\n"
          ]
        }
      ],
      "source": [
        "jan = march = may = aug = july = octo = dec = 31\n",
        "feb = 28\n",
        "apr = june = sept = nov = dec = 30\n",
        "print (jan, feb, march, apr, may , june, july, aug, sept, octo, nov, dec)"
      ]
    },
    {
      "cell_type": "code",
      "execution_count": null,
      "id": "303350b3",
      "metadata": {
        "id": "303350b3",
        "outputId": "02c6086a-181a-4892-bafc-2774b75a98ea"
      },
      "outputs": [
        {
          "name": "stdout",
          "output_type": "stream",
          "text": [
            "33 28 none 46\n"
          ]
        }
      ],
      "source": [
        "thomas = 33\n",
        "marry = 28\n",
        "walter = 'none' # rezerve etmek istediğimiz değere value olarak none atanır.\n",
        "isabella = 46\n",
        "print(thomas, marry, walter, isabella)"
      ]
    },
    {
      "cell_type": "code",
      "execution_count": null,
      "id": "855b8f0d",
      "metadata": {
        "id": "855b8f0d",
        "outputId": "6de34304-553e-463b-d29c-88476da7cda6"
      },
      "outputs": [
        {
          "name": "stdout",
          "output_type": "stream",
          "text": [
            "apple.com\n",
            "clarusway.com\n"
          ]
        }
      ],
      "source": [
        "website = \"apple.com\"\n",
        "print(website)\n",
        "website = \"clarusway.com\"\n",
        "print(website)"
      ]
    },
    {
      "cell_type": "code",
      "execution_count": null,
      "id": "1bf8e5e7",
      "metadata": {
        "id": "1bf8e5e7",
        "outputId": "e2834373-1a84-4875-e61e-4c176d1b64af"
      },
      "outputs": [
        {
          "name": "stdout",
          "output_type": "stream",
          "text": [
            "33 55 33\n"
          ]
        }
      ],
      "source": [
        "a = 11\n",
        "b = 22\n",
        "c = 44\n",
        "a = 33\n",
        "b = 55\n",
        "c = a\n",
        "print(a, b, c)"
      ]
    },
    {
      "cell_type": "code",
      "execution_count": null,
      "id": "0f12048f",
      "metadata": {
        "id": "0f12048f",
        "outputId": "9dbeaa8e-9e59-4486-8d66-1224029d2a5f"
      },
      "outputs": [
        {
          "name": "stdout",
          "output_type": "stream",
          "text": [
            "33\n",
            "33\n",
            "15\n"
          ]
        }
      ],
      "source": [
        "x = 15\n",
        "y = 33\n",
        "z = x\n",
        "x = y\n",
        "print(x)\n",
        "print(y)\n",
        "print(z)\n",
        "# son verilen değere odaklanmalıyız."
      ]
    },
    {
      "cell_type": "code",
      "execution_count": null,
      "id": "93027753",
      "metadata": {
        "id": "93027753",
        "outputId": "f22017e4-75a5-450c-ddfe-88dff0b4acdb"
      },
      "outputs": [
        {
          "name": "stdout",
          "output_type": "stream",
          "text": [
            "5\n",
            "3.2\n",
            "hello\n"
          ]
        }
      ],
      "source": [
        "a, b, c = 5, 3.2, \"hello\"\n",
        "print(a)\n",
        "print(b)\n",
        "print(c)"
      ]
    },
    {
      "cell_type": "code",
      "execution_count": null,
      "id": "d41ee49d",
      "metadata": {
        "id": "d41ee49d",
        "outputId": "86cc53f1-c65a-48b1-a7d0-f0826b8dabb7"
      },
      "outputs": [
        {
          "name": "stdout",
          "output_type": "stream",
          "text": [
            "<class 'str'>\n"
          ]
        }
      ],
      "source": [
        "my_text = 'being a good person'\n",
        "print(type(my_text))\n",
        "# print komutunun içinde \"type\" fonk. çalıştırırsak tür çıktısı verir."
      ]
    },
    {
      "cell_type": "code",
      "execution_count": null,
      "id": "a73649e7",
      "metadata": {
        "id": "a73649e7",
        "outputId": "dc1d8006-7ab9-4c01-cffb-1b7c3c825328"
      },
      "outputs": [
        {
          "name": "stdout",
          "output_type": "stream",
          "text": [
            "40\n",
            "-18\n"
          ]
        }
      ],
      "source": [
        "my_integer = 40\n",
        "negative_number = -18\n",
        "print(my_integer)\n",
        "print(negative_number)\n",
        "# pozitif yada negatif tamsayıların ondalıksız halini verir."
      ]
    },
    {
      "cell_type": "code",
      "execution_count": null,
      "id": "5fb5db69",
      "metadata": {
        "id": "5fb5db69",
        "outputId": "2ecc611a-a4bf-403c-d085-f56fa82caac6"
      },
      "outputs": [
        {
          "name": "stdout",
          "output_type": "stream",
          "text": [
            "40.0\n",
            "-18.6\n"
          ]
        }
      ],
      "source": [
        "my_float = 40.0\n",
        "negative_float = -18.6\n",
        "print(my_float)\n",
        "print(negative_float)\n",
        "# sayıları ondalıklı kısmıyla yazdırır."
      ]
    },
    {
      "cell_type": "code",
      "execution_count": null,
      "id": "903a02d1",
      "metadata": {
        "id": "903a02d1",
        "outputId": "fcf5061d-8479-4658-89db-489e56ca4fe5"
      },
      "outputs": [
        {
          "name": "stdout",
          "output_type": "stream",
          "text": [
            "<class 'str'>\n"
          ]
        }
      ],
      "source": [
        "my_data = 'I am string'\n",
        "print(type(my_data))"
      ]
    },
    {
      "cell_type": "code",
      "execution_count": null,
      "id": "bdabac4b",
      "metadata": {
        "id": "bdabac4b",
        "outputId": "9df1cc80-d3a7-45de-c6cb-c866424840bc"
      },
      "outputs": [
        {
          "data": {
            "text/plain": [
              "'3.14'"
            ]
          },
          "execution_count": 33,
          "metadata": {},
          "output_type": "execute_result"
        }
      ],
      "source": [
        "str(3.14)\n"
      ]
    },
    {
      "cell_type": "code",
      "execution_count": null,
      "id": "3d59a0c7",
      "metadata": {
        "id": "3d59a0c7",
        "outputId": "fe55e427-34ed-4cdb-9ef9-1060662a7308"
      },
      "outputs": [
        {
          "data": {
            "text/plain": [
              "'False'"
            ]
          },
          "execution_count": 34,
          "metadata": {},
          "output_type": "execute_result"
        }
      ],
      "source": [
        "str(False)"
      ]
    },
    {
      "cell_type": "code",
      "execution_count": null,
      "id": "8b3d57f4",
      "metadata": {
        "id": "8b3d57f4",
        "outputId": "8a5dce12-b5bf-40b7-ae14-49888e15ad3f"
      },
      "outputs": [
        {
          "name": "stdout",
          "output_type": "stream",
          "text": [
            "3\n",
            "<class 'int'>\n"
          ]
        }
      ],
      "source": [
        "pi = 3.14\n",
        "converted_pi = int(pi)\n",
        "print(converted_pi)\n",
        "print(type(converted_pi))\n",
        "# float integer dönüşümü\n"
      ]
    },
    {
      "cell_type": "code",
      "execution_count": null,
      "id": "01e034b2",
      "metadata": {
        "id": "01e034b2",
        "outputId": "186dc13c-0a84-448e-920b-5a2db71b4e4d"
      },
      "outputs": [
        {
          "name": "stdout",
          "output_type": "stream",
          "text": [
            "78.5\n"
          ]
        }
      ],
      "source": [
        "pi = 3.14\n",
        "r = 5\n",
        "print(pi*r*r)"
      ]
    },
    {
      "cell_type": "code",
      "execution_count": null,
      "id": "5d73b4b7",
      "metadata": {
        "id": "5d73b4b7",
        "outputId": "afcc2dfa-26b7-4fea-a927-eb4ea2596348"
      },
      "outputs": [
        {
          "name": "stdout",
          "output_type": "stream",
          "text": [
            "78.5\n"
          ]
        }
      ],
      "source": [
        "r = 5\n",
        "area = 3.14 * r * r\n",
        "print(area)\n"
      ]
    },
    {
      "cell_type": "code",
      "execution_count": null,
      "id": "f6c02b48",
      "metadata": {
        "id": "f6c02b48"
      },
      "outputs": [],
      "source": []
    }
  ],
  "metadata": {
    "kernelspec": {
      "display_name": "Python 3 (ipykernel)",
      "language": "python",
      "name": "python3"
    },
    "language_info": {
      "codemirror_mode": {
        "name": "ipython",
        "version": 3
      },
      "file_extension": ".py",
      "mimetype": "text/x-python",
      "name": "python",
      "nbconvert_exporter": "python",
      "pygments_lexer": "ipython3",
      "version": "3.9.7"
    },
    "colab": {
      "provenance": [],
      "include_colab_link": true
    }
  },
  "nbformat": 4,
  "nbformat_minor": 5
}