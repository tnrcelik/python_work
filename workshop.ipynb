{
  "cells": [
    {
      "cell_type": "markdown",
      "metadata": {
        "id": "view-in-github",
        "colab_type": "text"
      },
      "source": [
        "<a href=\"https://colab.research.google.com/github/tnrcelik/python_work/blob/main/workshop.ipynb\" target=\"_parent\"><img src=\"https://colab.research.google.com/assets/colab-badge.svg\" alt=\"Open In Colab\"/></a>"
      ]
    },
    {
      "cell_type": "code",
      "execution_count": null,
      "metadata": {
        "id": "9mUWSEhv8Wf4"
      },
      "outputs": [],
      "source": [
        "from IPython.core.display import set_matplotlib_formats\n",
        "data = {'Joseph': 'W@12', 'b': '2', 'c':'3'}\n",
        "\n",
        "name= input('Enter your name: ')\n",
        "if name in data:\n",
        "      print('\"Hello, {0} ! The password is :\"'.format(name), data[name], end=\",\")\n",
        "else:\n",
        "    print('\"Hello, {}! See you later.\"'.format(name))"
      ]
    },
    {
      "cell_type": "code",
      "source": [
        "number = int(input(\"Enter a number: \"))\n",
        "prime_number = False\n",
        "if number > 1 :\n",
        "  for i in range(2, number):\n",
        "        if (number % i) == 0:      \n",
        "          prime_number = True        \n",
        "          break\n",
        "          if prime_number:\n",
        "            print(number, \"is not a prime number\")\n",
        "          else:\n",
        "              print(number, \"is a prime number\")\n",
        "else:\n",
        "  print(\"It is not a prime number\")"
      ],
      "metadata": {
        "colab": {
          "base_uri": "https://localhost:8080/"
        },
        "id": "QLbrMgiMzeaw",
        "outputId": "5e104927-5568-4634-aeee-bdebb3264052"
      },
      "execution_count": null,
      "outputs": [
        {
          "name": "stdout",
          "output_type": "stream",
          "text": [
            "Enter a number: 3\n"
          ]
        }
      ]
    },
    {
      "cell_type": "code",
      "source": [
        "sayilar = \n",
        "\n",
        "for i in range(1,6) :\n",
        "som = i +\"/n \n",
        "print(som)"
      ],
      "metadata": {
        "colab": {
          "base_uri": "https://localhost:8080/",
          "height": 166
        },
        "id": "2aV909_CVEji",
        "outputId": "15aac76f-30e7-4a86-b88e-6f4b39d932fb"
      },
      "execution_count": null,
      "outputs": [
        {
          "output_type": "error",
          "ename": "IndentationError",
          "evalue": "ignored",
          "traceback": [
            "\u001b[0;36m  File \u001b[0;32m\"<ipython-input-1-2a4cba3ae3bd>\"\u001b[0;36m, line \u001b[0;32m4\u001b[0m\n\u001b[0;31m    som = i +\"\\n\"\u001b[0m\n\u001b[0m      ^\u001b[0m\n\u001b[0;31mIndentationError\u001b[0m\u001b[0;31m:\u001b[0m expected an indented block\n"
          ]
        }
      ]
    },
    {
      "cell_type": "code",
      "source": [
        "sayilar = []\n",
        "for i in range (5) :\n",
        "  sayilar.append(i)\n",
        "  print(sayilar)\n"
      ],
      "metadata": {
        "colab": {
          "base_uri": "https://localhost:8080/"
        },
        "id": "ruVv6gk_0sY_",
        "outputId": "be0d9f3c-f526-4f35-e9f8-a3b968e95e97"
      },
      "execution_count": null,
      "outputs": [
        {
          "output_type": "stream",
          "name": "stdout",
          "text": [
            "[0]\n",
            "[0, 1]\n",
            "[0, 1, 2]\n",
            "[0, 1, 2, 3]\n",
            "[0, 1, 2, 3, 4]\n"
          ]
        }
      ]
    },
    {
      "cell_type": "code",
      "source": [
        "[i**2 for i in range(5)]"
      ],
      "metadata": {
        "colab": {
          "base_uri": "https://localhost:8080/"
        },
        "id": "KEi4kkuB073w",
        "outputId": "b8e2b75b-0b74-4733-e9af-b2a865dff66d"
      },
      "execution_count": null,
      "outputs": [
        {
          "output_type": "execute_result",
          "data": {
            "text/plain": [
              "[0, 1, 4, 9, 16]"
            ]
          },
          "metadata": {},
          "execution_count": 21
        }
      ]
    },
    {
      "cell_type": "code",
      "source": [
        "[i + (i+1) + (i+2) for i in range(5)]"
      ],
      "metadata": {
        "colab": {
          "base_uri": "https://localhost:8080/"
        },
        "id": "rZSxerg42Bzo",
        "outputId": "8e84cef0-664d-40e4-e317-f8a7bb93ef63"
      },
      "execution_count": null,
      "outputs": [
        {
          "output_type": "execute_result",
          "data": {
            "text/plain": [
              "[3, 6, 9, 12, 15]"
            ]
          },
          "metadata": {},
          "execution_count": 26
        }
      ]
    },
    {
      "cell_type": "code",
      "source": [
        "newlist = [1, 2, 3, 4, 5]\n",
        "newlist"
      ],
      "metadata": {
        "id": "1JkQoCdK1w6P"
      },
      "execution_count": null,
      "outputs": []
    },
    {
      "cell_type": "code",
      "source": [
        "i=2\n",
        "number = 21\n",
        "primenumber = True \n",
        "while i < number :\n",
        "    if number % i == 0 :\n",
        "       primenumber == False\n",
        "    elif number % i != 0:\n",
        "       primenumber == True\n",
        "       break\n",
        "if primenumber ==True :\n",
        "   print(\"It is a prime number\")\n",
        "else:\n",
        "   print(\"It is not a prime number\")"
      ],
      "metadata": {
        "id": "0qXMbszde3Ck",
        "colab": {
          "base_uri": "https://localhost:8080/"
        },
        "outputId": "ac9e9b20-d294-4afe-a32c-cbe7b41f2376"
      },
      "execution_count": null,
      "outputs": [
        {
          "output_type": "stream",
          "name": "stdout",
          "text": [
            "It is a prime number\n"
          ]
        }
      ]
    },
    {
      "cell_type": "code",
      "source": [],
      "metadata": {
        "id": "efB5ZCH9QlPk"
      },
      "execution_count": null,
      "outputs": []
    },
    {
      "cell_type": "code",
      "source": [
        "sample_list = [{\"section\":5, \"topic\":2}, 'clarusway', [1, 4], 2020, 3.14, 1+618j, False, (10, 20)]"
      ],
      "metadata": {
        "id": "NbwaVjkfe4oj"
      },
      "execution_count": null,
      "outputs": []
    },
    {
      "cell_type": "code",
      "source": [
        "\n",
        "sample_list = [{\"section\":5, \"topic\":2}, 'clarusway', [1, 4], 2020, 3.14, 1+618j, False, (10, 20)]\n",
        "print(\"The type of sample_list[1]\")  #print(type([sample_list]))"
      ],
      "metadata": {
        "colab": {
          "base_uri": "https://localhost:8080/",
          "height": 375
        },
        "id": "rbO4iMUr5a-o",
        "outputId": "6efe8f04-28a8-45b4-ac53-b15d5d09e3d0"
      },
      "execution_count": null,
      "outputs": [
        {
          "output_type": "stream",
          "name": "stdout",
          "text": [
            "The type of sample_list[1]\n",
            "<class 'list'>\n"
          ]
        },
        {
          "output_type": "error",
          "ename": "TypeError",
          "evalue": "ignored",
          "traceback": [
            "\u001b[0;31m---------------------------------------------------------------------------\u001b[0m",
            "\u001b[0;31mTypeError\u001b[0m                                 Traceback (most recent call last)",
            "\u001b[0;32m<ipython-input-4-52963d5171f8>\u001b[0m in \u001b[0;36m<module>\u001b[0;34m()\u001b[0m\n\u001b[1;32m      1\u001b[0m \u001b[0;34m\u001b[0m\u001b[0m\n\u001b[1;32m      2\u001b[0m \u001b[0msample_list\u001b[0m \u001b[0;34m=\u001b[0m \u001b[0;34m[\u001b[0m\u001b[0;34m{\u001b[0m\u001b[0;34m\"section\"\u001b[0m\u001b[0;34m:\u001b[0m\u001b[0;36m5\u001b[0m\u001b[0;34m,\u001b[0m \u001b[0;34m\"topic\"\u001b[0m\u001b[0;34m:\u001b[0m\u001b[0;36m2\u001b[0m\u001b[0;34m}\u001b[0m\u001b[0;34m,\u001b[0m \u001b[0;34m'clarusway'\u001b[0m\u001b[0;34m,\u001b[0m \u001b[0;34m[\u001b[0m\u001b[0;36m1\u001b[0m\u001b[0;34m,\u001b[0m \u001b[0;36m4\u001b[0m\u001b[0;34m]\u001b[0m\u001b[0;34m,\u001b[0m \u001b[0;36m2020\u001b[0m\u001b[0;34m,\u001b[0m \u001b[0;36m3.14\u001b[0m\u001b[0;34m,\u001b[0m \u001b[0;36m1\u001b[0m\u001b[0;34m+\u001b[0m\u001b[0;36m618j\u001b[0m\u001b[0;34m,\u001b[0m \u001b[0;32mFalse\u001b[0m\u001b[0;34m,\u001b[0m \u001b[0;34m(\u001b[0m\u001b[0;36m10\u001b[0m\u001b[0;34m,\u001b[0m \u001b[0;36m20\u001b[0m\u001b[0;34m)\u001b[0m\u001b[0;34m]\u001b[0m\u001b[0;34m\u001b[0m\u001b[0;34m\u001b[0m\u001b[0m\n\u001b[0;32m----> 3\u001b[0;31m \u001b[0mprint\u001b[0m\u001b[0;34m(\u001b[0m\u001b[0;34m\"The type of sample_list[1]\"\u001b[0m\u001b[0;34m)\u001b[0m \u001b[0;34m+\u001b[0m \u001b[0mprint\u001b[0m\u001b[0;34m(\u001b[0m\u001b[0mtype\u001b[0m\u001b[0;34m(\u001b[0m\u001b[0;34m[\u001b[0m\u001b[0msample_list\u001b[0m\u001b[0;34m]\u001b[0m\u001b[0;34m)\u001b[0m\u001b[0;34m)\u001b[0m\u001b[0;34m\u001b[0m\u001b[0;34m\u001b[0m\u001b[0m\n\u001b[0m",
            "\u001b[0;31mTypeError\u001b[0m: unsupported operand type(s) for +: 'NoneType' and 'NoneType'"
          ]
        }
      ]
    },
    {
      "cell_type": "code",
      "source": [
        "\n",
        "number = int(input('Please enter a number: '))\n",
        "i=0 \n",
        "while i<number:\n",
        "    print(i**2)\n",
        "    i= i+1"
      ],
      "metadata": {
        "colab": {
          "base_uri": "https://localhost:8080/"
        },
        "id": "Kcg5fUEVcJBr",
        "outputId": "1621af5c-ba97-4e2f-b88b-abf0c72f777c"
      },
      "execution_count": null,
      "outputs": [
        {
          "output_type": "stream",
          "name": "stdout",
          "text": [
            "Please enter a number: 3\n",
            "0\n",
            "1\n",
            "4\n"
          ]
        }
      ]
    },
    {
      "cell_type": "code",
      "execution_count": null,
      "metadata": {
        "colab": {
          "base_uri": "https://localhost:8080/",
          "height": 131
        },
        "id": "Znpu8RjYlMd3",
        "outputId": "f72cfa9b-ae76-46c4-bcb1-8b03ec90dd9c"
      },
      "outputs": [
        {
          "ename": "IndentationError",
          "evalue": "ignored",
          "output_type": "error",
          "traceback": [
            "\u001b[0;36m  File \u001b[0;32m\"<ipython-input-9-7830ed3d11d8>\"\u001b[0;36m, line \u001b[0;32m3\u001b[0m\n\u001b[0;31m    print(\"The number is equal or greater than 10\")\u001b[0m\n\u001b[0m        ^\u001b[0m\n\u001b[0;31mIndentationError\u001b[0m\u001b[0;31m:\u001b[0m expected an indented block\n"
          ]
        }
      ],
      "source": [
        "number = 23\n",
        "if number >= 10 :\n",
        "print(\"The number is equal or greater than 10\")\n",
        "else number < 10 :\n",
        "print(\"The number is less than 10\")"
      ]
    },
    {
      "cell_type": "code",
      "execution_count": null,
      "metadata": {
        "colab": {
          "base_uri": "https://localhost:8080/"
        },
        "id": "wNcFjPoAmWGD",
        "outputId": "fcbf1735-6d9e-458d-8b0c-ab78fc892089"
      },
      "outputs": [
        {
          "name": "stdout",
          "output_type": "stream",
          "text": [
            "The number is equal or greater than 10\n"
          ]
        }
      ],
      "source": [
        "number = 23\n",
        "if number >= 10:    \n",
        "    print(\"The number is equal or greater than 10\") \n",
        "else:\n",
        "    print(\"The number is less than 10\")\n"
      ]
    },
    {
      "cell_type": "code",
      "execution_count": null,
      "metadata": {
        "id": "6gMc3WMgu7Tc",
        "colab": {
          "base_uri": "https://localhost:8080/"
        },
        "outputId": "12b1ce6b-e07d-4ef6-deba-bd920a9d7210"
      },
      "outputs": [
        {
          "output_type": "stream",
          "name": "stdout",
          "text": [
            "2\n",
            "3\n",
            "4\n",
            "5\n",
            "6\n"
          ]
        }
      ],
      "source": [
        "#fibonacci →  [1, 1, 2, 3, 5, 8, 13, 21, 34, 55]\n",
        "\n",
        "mylist = [1,2,3,4,5]\n",
        "i = 0\n",
        "newlist =1\n",
        "for i in range(len(mylist)) :\n",
        "  a = 1\n",
        "  b = 2\n",
        "  b = a + b\n",
        "  c = b + a+b \n",
        "  sonlist = \n",
        "  i +=1\n",
        "  print(newlist)\n",
        "\n"
      ]
    },
    {
      "cell_type": "code",
      "source": [],
      "metadata": {
        "id": "YwdF9wHiI51E"
      },
      "execution_count": null,
      "outputs": []
    },
    {
      "cell_type": "code",
      "source": [],
      "metadata": {
        "id": "O5VHXAuSIRSx"
      },
      "execution_count": null,
      "outputs": []
    },
    {
      "cell_type": "code",
      "source": [],
      "metadata": {
        "id": "_AFTthbeDl6t"
      },
      "execution_count": null,
      "outputs": []
    },
    {
      "cell_type": "code",
      "execution_count": null,
      "metadata": {
        "colab": {
          "background_save": true,
          "base_uri": "https://localhost:8080/"
        },
        "id": "NXv7czWFu74s",
        "outputId": "be6b7957-9fc5-4734-b9d9-78b665d71737"
      },
      "outputs": [
        {
          "name": "stdout",
          "output_type": "stream",
          "text": [
            "Let's play the guessing game!\n"
          ]
        }
      ],
      "source": [
        "answer = 44\n",
        "\n",
        "question = 'What number am I thinking of?  '\n",
        "print (\"Let's play the guessing game!\")\n",
        "\n",
        "while True:\n",
        "    guess = int(input(question))\n",
        "\n",
        "    if guess < answer:\n",
        "        print('Little higher')\n",
        "    elif guess > answer:\n",
        "        print('Little lower')\n",
        "    else:  # guess == answer\n",
        "        print('Are you a MINDREADER!!!')\n",
        "        break\n"
      ]
    },
    {
      "cell_type": "code",
      "execution_count": null,
      "metadata": {
        "id": "bsegG1blx6vF"
      },
      "outputs": [],
      "source": [
        "flowers = ['Rose', 'Orchid', 'Tulip']\n",
        "count1 = len(flowers)\n",
        "count2 = 0\n",
        "\n",
        "while count1>0 :\n",
        "     count1 -=\n",
        "    count2 += \n",
        "    print(flowers[count2])\n",
        " \n"
      ]
    },
    {
      "cell_type": "code",
      "execution_count": null,
      "metadata": {
        "id": "8MLDD9l5aBos"
      },
      "outputs": [],
      "source": [
        "mail = \"mailto: Clarusway admission@clarusway.com, 6 Haz 2021 Paz, 21:08 tarihinde şunu yazdı:\"\n",
        "\n",
        "output = mail[mail.index(\"@\")+1:mail.index(\".com\")+4]\n",
        "\n",
        "print(output)"
      ]
    },
    {
      "cell_type": "code",
      "execution_count": null,
      "metadata": {
        "colab": {
          "base_uri": "https://localhost:8080/",
          "height": 131
        },
        "id": "JCWZ5ftOTAVW",
        "outputId": "7e030f2a-b4cc-4fe6-bd8f-33b12872b726"
      },
      "outputs": [
        {
          "ename": "SyntaxError",
          "evalue": "ignored",
          "output_type": "error",
          "traceback": [
            "\u001b[0;36m  File \u001b[0;32m\"<ipython-input-8-0f58b2999453>\"\u001b[0;36m, line \u001b[0;32m1\u001b[0m\n\u001b[0;31m    print('\"Hello, {0} ! The password is :\"!.format(name), data[name], end=\",\")\u001b[0m\n\u001b[0m                                                                               ^\u001b[0m\n\u001b[0;31mSyntaxError\u001b[0m\u001b[0;31m:\u001b[0m EOL while scanning string literal\n"
          ]
        }
      ],
      "source": [
        "print('\"Hello, {0} ! The password is :\"!.format(name), data[name], end=\",\")\n",
        "else:\n",
        "    print('\"Hello, {}! See you later.\"'.format(name))"
      ]
    },
    {
      "cell_type": "code",
      "execution_count": null,
      "metadata": {
        "colab": {
          "base_uri": "https://localhost:8080/",
          "height": 130
        },
        "id": "unw2_7hriCIK",
        "outputId": "409926bb-3d39-4839-d669-23cbf9e98365"
      },
      "outputs": [
        {
          "ename": "SyntaxError",
          "evalue": "ignored",
          "output_type": "error",
          "traceback": [
            "\u001b[0;36m  File \u001b[0;32m\"<ipython-input-2-de59cdf1d26d>\"\u001b[0;36m, line \u001b[0;32m1\u001b[0m\n\u001b[0;31m    print(‘hello’, ‘how’, ‘are-’, ‘you’ + ‘-‘ * 4)\u001b[0m\n\u001b[0m                ^\u001b[0m\n\u001b[0;31mSyntaxError\u001b[0m\u001b[0;31m:\u001b[0m invalid character in identifier\n"
          ]
        }
      ],
      "source": [
        "print(‘hello’, ‘how’, ‘are-’, ‘you’ + ‘-‘ * 4)\n",
        "print(‘hello-‘ + ‘how-are-you’)\n",
        "print(‘hello’ + ‘-‘ + ‘how’ + ‘-‘ + ‘are’ + ‘you’)"
      ]
    },
    {
      "cell_type": "code",
      "execution_count": null,
      "metadata": {
        "colab": {
          "base_uri": "https://localhost:8080/",
          "height": 130
        },
        "id": "KgIAzP4MiMAZ",
        "outputId": "a547d9ae-4541-46e1-cd91-1771f3c75c82"
      },
      "outputs": [
        {
          "ename": "SyntaxError",
          "evalue": "ignored",
          "output_type": "error",
          "traceback": [
            "\u001b[0;36m  File \u001b[0;32m\"<ipython-input-3-4721c90b3f57>\"\u001b[0;36m, line \u001b[0;32m1\u001b[0m\n\u001b[0;31m    print(‘hello’, ‘-how’, ‘are’, ‘-you’)\u001b[0m\n\u001b[0m                ^\u001b[0m\n\u001b[0;31mSyntaxError\u001b[0m\u001b[0;31m:\u001b[0m invalid character in identifier\n"
          ]
        }
      ],
      "source": [
        "print(‘hello’, ‘-how’, ‘are’, ‘-you’)"
      ]
    },
    {
      "cell_type": "code",
      "execution_count": null,
      "metadata": {
        "colab": {
          "base_uri": "https://localhost:8080/",
          "height": 130
        },
        "id": "mwm19cYhiMp4",
        "outputId": "3f9d0542-d109-489f-ecf4-f4dc3c641cdb"
      },
      "outputs": [
        {
          "ename": "SyntaxError",
          "evalue": "ignored",
          "output_type": "error",
          "traceback": [
            "\u001b[0;36m  File \u001b[0;32m\"<ipython-input-4-e8caafea9dc0>\"\u001b[0;36m, line \u001b[0;32m1\u001b[0m\n\u001b[0;31m    print(‘hello’, ‘how’, ‘are-’, ‘you’ + ‘-‘ * 4)\u001b[0m\n\u001b[0m                ^\u001b[0m\n\u001b[0;31mSyntaxError\u001b[0m\u001b[0;31m:\u001b[0m invalid character in identifier\n"
          ]
        }
      ],
      "source": [
        "print(‘hello’, ‘how’, ‘are-’, ‘you’ + ‘-‘ * 4)"
      ]
    },
    {
      "cell_type": "code",
      "execution_count": null,
      "metadata": {
        "colab": {
          "base_uri": "https://localhost:8080/",
          "height": 130
        },
        "id": "c9mmidcZiToB",
        "outputId": "4b1b755a-d864-428c-ccfe-ac98ae371389"
      },
      "outputs": [
        {
          "ename": "SyntaxError",
          "evalue": "ignored",
          "output_type": "error",
          "traceback": [
            "\u001b[0;36m  File \u001b[0;32m\"<ipython-input-5-723cae74ea20>\"\u001b[0;36m, line \u001b[0;32m1\u001b[0m\n\u001b[0;31m    print(‘hello-‘ + ‘how-are-you’)\u001b[0m\n\u001b[0m               ^\u001b[0m\n\u001b[0;31mSyntaxError\u001b[0m\u001b[0;31m:\u001b[0m invalid character in identifier\n"
          ]
        }
      ],
      "source": [
        "print(‘hello-‘ + ‘how-are-you’)\n"
      ]
    },
    {
      "cell_type": "code",
      "execution_count": null,
      "metadata": {
        "colab": {
          "base_uri": "https://localhost:8080/",
          "height": 130
        },
        "id": "oGtXzyITiZ1y",
        "outputId": "58a80bcc-971c-4a99-8cf0-b003191b0108"
      },
      "outputs": [
        {
          "ename": "SyntaxError",
          "evalue": "ignored",
          "output_type": "error",
          "traceback": [
            "\u001b[0;36m  File \u001b[0;32m\"<ipython-input-9-07f9d4625c3e>\"\u001b[0;36m, line \u001b[0;32m1\u001b[0m\n\u001b[0;31m    print(‘hello’ + ‘-‘ + ‘how’ + ‘-‘ + ‘are’ + ‘you’\")\u001b[0m\n\u001b[0m                ^\u001b[0m\n\u001b[0;31mSyntaxError\u001b[0m\u001b[0;31m:\u001b[0m invalid character in identifier\n"
          ]
        }
      ],
      "source": [
        "print(‘hello’ + ‘-‘ + ‘how’ + ‘-‘ + ‘are’ + ‘you’\")\n"
      ]
    },
    {
      "cell_type": "code",
      "execution_count": null,
      "metadata": {
        "colab": {
          "base_uri": "https://localhost:8080/"
        },
        "id": "phyo6MOxiqAy",
        "outputId": "ecb4c1a4-961c-4a6c-b219-81aeaaf649f9"
      },
      "outputs": [
        {
          "name": "stdout",
          "output_type": "stream",
          "text": [
            "hello\n"
          ]
        }
      ],
      "source": [
        "print(\"hello\")\n"
      ]
    },
    {
      "cell_type": "code",
      "execution_count": null,
      "metadata": {
        "id": "KkaO7qr7ixvY"
      },
      "outputs": [],
      "source": []
    },
    {
      "cell_type": "code",
      "execution_count": null,
      "metadata": {
        "colab": {
          "base_uri": "https://localhost:8080/",
          "height": 218
        },
        "id": "Ywaf73f_9qes",
        "outputId": "3466ba2b-1f18-462d-bf2f-f848bcf9c14f"
      },
      "outputs": [
        {
          "ename": "SyntaxError",
          "evalue": "ignored",
          "output_type": "error",
          "traceback": [
            "\u001b[0;36m  File \u001b[0;32m\"<ipython-input-4-79495210a1b4>\"\u001b[0;36m, line \u001b[0;32m1\u001b[0m\n\u001b[0;31m    text = 'Clarusway,Clarusway,Clarusway,', \\n, *3\u001b[0m\n\u001b[0m                                                   ^\u001b[0m\n\u001b[0;31mSyntaxError\u001b[0m\u001b[0;31m:\u001b[0m unexpected character after line continuation character\n"
          ]
        }
      ],
      "source": [
        "text = 'Clarusway,Clarusway,Clarusway,', \\n, *3\n",
        "print(text)"
      ]
    },
    {
      "cell_type": "code",
      "execution_count": null,
      "metadata": {
        "colab": {
          "base_uri": "https://localhost:8080/",
          "height": 130
        },
        "id": "SXF_frlm9rVQ",
        "outputId": "6e295218-8ecb-42be-badb-082d52d61934"
      },
      "outputs": [
        {
          "ename": "SyntaxError",
          "evalue": "ignored",
          "output_type": "error",
          "traceback": [
            "\u001b[0;36m  File \u001b[0;32m\"<ipython-input-15-aea73fa83bca>\"\u001b[0;36m, line \u001b[0;32m2\u001b[0m\n\u001b[0;31m    print('text' +  \\n \\t)\u001b[0m\n\u001b[0m                           ^\u001b[0m\n\u001b[0;31mSyntaxError\u001b[0m\u001b[0;31m:\u001b[0m unexpected character after line continuation character\n"
          ]
        }
      ],
      "source": [
        "text ='Clarusway, Clarusway, Clarusway'\n",
        "print('text'+ \\n \\t) "
      ]
    },
    {
      "cell_type": "code",
      "execution_count": null,
      "metadata": {
        "colab": {
          "base_uri": "https://localhost:8080/"
        },
        "id": "2fWtxvlxAEKl",
        "outputId": "1b3e9f1c-4087-4e1d-e4dd-8eaaf2729776"
      },
      "outputs": [
        {
          "name": "stdout",
          "output_type": "stream",
          "text": [
            "{}\n"
          ]
        }
      ],
      "source": [
        "print(False or {})"
      ]
    },
    {
      "cell_type": "code",
      "execution_count": null,
      "metadata": {
        "colab": {
          "base_uri": "https://localhost:8080/",
          "height": 130
        },
        "id": "6MM4ExFSAE9S",
        "outputId": "0acc687d-de82-48ef-daab-1931df235fa3"
      },
      "outputs": [
        {
          "ename": "SyntaxError",
          "evalue": "ignored",
          "output_type": "error",
          "traceback": [
            "\u001b[0;36m  File \u001b[0;32m\"<ipython-input-8-1c9a6985b0b7>\"\u001b[0;36m, line \u001b[0;32m2\u001b[0m\n\u001b[0;31m    Input\tOutput\u001b[0m\n\u001b[0m         \t     ^\u001b[0m\n\u001b[0;31mSyntaxError\u001b[0m\u001b[0;31m:\u001b[0m invalid syntax\n"
          ]
        }
      ],
      "source": [
        "\n",
        "Input\tOutput\n",
        "print(False or {})"
      ]
    },
    {
      "cell_type": "code",
      "execution_count": null,
      "metadata": {
        "colab": {
          "base_uri": "https://localhost:8080/"
        },
        "id": "qaiQSRUeDnn5",
        "outputId": "1b094198-001d-43be-93ed-b4bf6450485d"
      },
      "outputs": [
        {
          "name": "stdout",
          "output_type": "stream",
          "text": [
            "{0}\n"
          ]
        }
      ],
      "source": [
        "print({0})"
      ]
    },
    {
      "cell_type": "code",
      "execution_count": null,
      "metadata": {
        "colab": {
          "base_uri": "https://localhost:8080/"
        },
        "id": "pRJ_rofJDsd4",
        "outputId": "d72c6c5a-3819-46ef-e499-955b64917a7b"
      },
      "outputs": [
        {
          "name": "stdout",
          "output_type": "stream",
          "text": [
            "Please enter your name: Oznur\n",
            "Hello, Oznur! The password is: 147852\n"
          ]
        }
      ],
      "source": [
        "my_name = \"Oznur\"\n",
        "password = 147852\n",
        "name = input(\"Please enter your name: \")\n",
        "print(my_name==name and \"Hello, Oznur! The password is: 147852\" or (f\"Hello, {name}! See you later.\"))"
      ]
    },
    {
      "cell_type": "code",
      "execution_count": null,
      "metadata": {
        "id": "iUljZiZFDpaP"
      },
      "outputs": [],
      "source": [
        "\n",
        "flowers = ['Rose', 'Orchid', 'Tulip']\n",
        "count1 = len(flowers)\n",
        "count2 = 0\n",
        "\n",
        "while count1>0 :\n",
        "    print(flowers[count2])\n",
        "count1 -= \n",
        "count2 +="
      ]
    }
  ],
  "metadata": {
    "colab": {
      "collapsed_sections": [],
      "provenance": [],
      "authorship_tag": "ABX9TyPDQa3UNvLZcoShi4U66rMu",
      "include_colab_link": true
    },
    "kernelspec": {
      "display_name": "Python 3",
      "name": "python3"
    },
    "language_info": {
      "name": "python"
    }
  },
  "nbformat": 4,
  "nbformat_minor": 0
}